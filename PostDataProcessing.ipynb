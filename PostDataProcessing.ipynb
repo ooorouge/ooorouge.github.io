{
 "cells": [
  {
   "cell_type": "code",
   "execution_count": 55,
   "metadata": {
    "autoscroll": false,
    "collapsed": false,
    "ein.hycell": false,
    "ein.tags": "worksheet-0",
    "slideshow": {
     "slide_type": "-"
    }
   },
   "outputs": [],
   "source": [
    "import xml.etree.ElementTree as ET\n",
    "import re\n",
    "import numpy as np\n",
    "import json\n",
    "import pandas as pd"
   ]
  },
  {
   "cell_type": "code",
   "execution_count": 2,
   "metadata": {
    "autoscroll": false,
    "collapsed": false,
    "ein.hycell": false,
    "ein.tags": "worksheet-0",
    "slideshow": {
     "slide_type": "-"
    }
   },
   "outputs": [],
   "source": [
    "tree = ET.parse('data/Tags.xml')\n",
    "root = tree.getroot()"
   ]
  },
  {
   "cell_type": "code",
   "execution_count": 3,
   "metadata": {
    "autoscroll": false,
    "collapsed": false,
    "ein.hycell": false,
    "ein.tags": "worksheet-0",
    "slideshow": {
     "slide_type": "-"
    }
   },
   "outputs": [],
   "source": [
    "## abstract tags that appears more than 100 times"
   ]
  },
  {
   "cell_type": "code",
   "execution_count": 4,
   "metadata": {
    "autoscroll": false,
    "collapsed": false,
    "ein.hycell": false,
    "ein.tags": "worksheet-0",
    "slideshow": {
     "slide_type": "-"
    }
   },
   "outputs": [],
   "source": [
    "index = 0\n",
    "tagIndexDic = {}\n",
    "for child in root:\n",
    "    if int(child.attrib.get(\"Count\")) > 100:\n",
    "        tagIndexDic[child.attrib.get(\"TagName\")] = index\n",
    "        index += 1"
   ]
  },
  {
   "cell_type": "code",
   "execution_count": 5,
   "metadata": {
    "autoscroll": false,
    "collapsed": false,
    "ein.hycell": false,
    "ein.tags": "worksheet-0",
    "slideshow": {
     "slide_type": "-"
    }
   },
   "outputs": [],
   "source": [
    "tagNum = len(tagIndexDic.keys())"
   ]
  },
  {
   "cell_type": "code",
   "execution_count": 6,
   "metadata": {
    "autoscroll": false,
    "collapsed": false,
    "ein.hycell": false,
    "ein.tags": "worksheet-0",
    "slideshow": {
     "slide_type": "-"
    }
   },
   "outputs": [
    {
     "name": "stdout",
     "output_type": "stream",
     "text": [
      "0  posts have been processed\n"
     ]
    },
    {
     "name": "stdout",
     "output_type": "stream",
     "text": [
      "1000000  posts have been processed\n"
     ]
    },
    {
     "name": "stdout",
     "output_type": "stream",
     "text": [
      "2000000  posts have been processed\n"
     ]
    },
    {
     "name": "stdout",
     "output_type": "stream",
     "text": [
      "3000000  posts have been processed\n"
     ]
    },
    {
     "name": "stdout",
     "output_type": "stream",
     "text": [
      "4000000  posts have been processed\n"
     ]
    },
    {
     "name": "stdout",
     "output_type": "stream",
     "text": [
      "5000000  posts have been processed\n"
     ]
    },
    {
     "name": "stdout",
     "output_type": "stream",
     "text": [
      "6000000  posts have been processed\n"
     ]
    },
    {
     "name": "stdout",
     "output_type": "stream",
     "text": [
      "7000000  posts have been processed\n"
     ]
    },
    {
     "name": "stdout",
     "output_type": "stream",
     "text": [
      "8000000  posts have been processed\n"
     ]
    },
    {
     "name": "stdout",
     "output_type": "stream",
     "text": [
      "9000000  posts have been processed\n"
     ]
    },
    {
     "name": "stdout",
     "output_type": "stream",
     "text": [
      "10000000  posts have been processed\n"
     ]
    },
    {
     "name": "stdout",
     "output_type": "stream",
     "text": [
      "11000000  posts have been processed\n"
     ]
    },
    {
     "name": "stdout",
     "output_type": "stream",
     "text": [
      "12000000  posts have been processed\n"
     ]
    },
    {
     "name": "stdout",
     "output_type": "stream",
     "text": [
      "13000000  posts have been processed\n"
     ]
    },
    {
     "name": "stdout",
     "output_type": "stream",
     "text": [
      "14000000  posts have been processed\n"
     ]
    },
    {
     "name": "stdout",
     "output_type": "stream",
     "text": [
      "15000000  posts have been processed\n"
     ]
    },
    {
     "name": "stdout",
     "output_type": "stream",
     "text": [
      "16000000  posts have been processed\n"
     ]
    },
    {
     "name": "stdout",
     "output_type": "stream",
     "text": [
      "17000000  posts have been processed\n"
     ]
    },
    {
     "name": "stdout",
     "output_type": "stream",
     "text": [
      "18000000  posts have been processed\n"
     ]
    },
    {
     "name": "stdout",
     "output_type": "stream",
     "text": [
      "19000000  posts have been processed\n"
     ]
    },
    {
     "name": "stdout",
     "output_type": "stream",
     "text": [
      "20000000  posts have been processed\n"
     ]
    },
    {
     "name": "stdout",
     "output_type": "stream",
     "text": [
      "21000000  posts have been processed\n"
     ]
    },
    {
     "name": "stdout",
     "output_type": "stream",
     "text": [
      "22000000  posts have been processed\n"
     ]
    },
    {
     "name": "stdout",
     "output_type": "stream",
     "text": [
      "23000000  posts have been processed\n"
     ]
    },
    {
     "name": "stdout",
     "output_type": "stream",
     "text": [
      "24000000  posts have been processed\n"
     ]
    },
    {
     "name": "stdout",
     "output_type": "stream",
     "text": [
      "25000000  posts have been processed\n"
     ]
    },
    {
     "name": "stdout",
     "output_type": "stream",
     "text": [
      "26000000  posts have been processed\n"
     ]
    },
    {
     "name": "stdout",
     "output_type": "stream",
     "text": [
      "27000000  posts have been processed\n"
     ]
    },
    {
     "name": "stdout",
     "output_type": "stream",
     "text": [
      "28000000  posts have been processed\n"
     ]
    },
    {
     "name": "stdout",
     "output_type": "stream",
     "text": [
      "29000000  posts have been processed\n"
     ]
    },
    {
     "name": "stdout",
     "output_type": "stream",
     "text": [
      "30000000  posts have been processed\n"
     ]
    },
    {
     "name": "stdout",
     "output_type": "stream",
     "text": [
      "31000000  posts have been processed\n"
     ]
    },
    {
     "name": "stdout",
     "output_type": "stream",
     "text": [
      "32000000  posts have been processed\n"
     ]
    },
    {
     "name": "stdout",
     "output_type": "stream",
     "text": [
      "33000000  posts have been processed\n"
     ]
    },
    {
     "name": "stdout",
     "output_type": "stream",
     "text": [
      "34000000  posts have been processed\n"
     ]
    },
    {
     "name": "stdout",
     "output_type": "stream",
     "text": [
      "35000000  posts have been processed\n"
     ]
    },
    {
     "name": "stdout",
     "output_type": "stream",
     "text": [
      "36000000  posts have been processed\n"
     ]
    },
    {
     "name": "stdout",
     "output_type": "stream",
     "text": [
      "37000000  posts have been processed\n"
     ]
    },
    {
     "name": "stdout",
     "output_type": "stream",
     "text": [
      "38000000  posts have been processed\n"
     ]
    },
    {
     "name": "stdout",
     "output_type": "stream",
     "text": [
      "39000000  posts have been processed\n"
     ]
    },
    {
     "name": "stdout",
     "output_type": "stream",
     "text": [
      "40000000  posts have been processed\n"
     ]
    },
    {
     "name": "stdout",
     "output_type": "stream",
     "text": [
      "41000000  posts have been processed\n"
     ]
    },
    {
     "name": "stdout",
     "output_type": "stream",
     "text": [
      "42000000  posts have been processed\n"
     ]
    },
    {
     "name": "stdout",
     "output_type": "stream",
     "text": [
      "43000000  posts have been processed\n"
     ]
    },
    {
     "name": "stdout",
     "output_type": "stream",
     "text": [
      "44000000  posts have been processed\n"
     ]
    },
    {
     "name": "stdout",
     "output_type": "stream",
     "text": [
      "45000000  posts have been processed\n"
     ]
    },
    {
     "name": "stdout",
     "output_type": "stream",
     "text": [
      "46000000  posts have been processed\n"
     ]
    },
    {
     "name": "stdout",
     "output_type": "stream",
     "text": [
      "47000000  posts have been processed\n"
     ]
    },
    {
     "name": "stdout",
     "output_type": "stream",
     "text": [
      "48000000  posts have been processed\n"
     ]
    },
    {
     "name": "stdout",
     "output_type": "stream",
     "text": [
      "49000000  posts have been processed\n"
     ]
    },
    {
     "name": "stdout",
     "output_type": "stream",
     "text": [
      "50000000  posts have been processed\n"
     ]
    }
   ],
   "source": [
    "## for each post,\n",
    "process = 0 \n",
    "# init a matrix that helps counting for each year.\n",
    "years = [str(year) for year in range(2008, 2021)]\n",
    "countMat = {}\n",
    "for year in years:\n",
    "    countMat[year] = np.zeros((tagNum, tagNum))\n",
    "    \n",
    "for event, child in ET.iterparse(\"data/Posts.xml\"):\n",
    "    if event == \"end\":\n",
    "        attr = child.attrib\n",
    "        if \"Tags\" in attr:\n",
    "            # parse time\n",
    "            if \"CreationDate\" in attr:\n",
    "                year = attr[\"CreationDate\"][:4]\n",
    "                # parse tag\n",
    "                tags = re.findall(r\"<(.+?)>\", attr[\"Tags\"])\n",
    "                for tag1 in tags:\n",
    "                    for tag2 in tags:\n",
    "                        if ((tag1 in tagIndexDic) and (tag2 in tagIndexDic)):\n",
    "                            # count the number into the matrix\n",
    "                            countMat[year][tagIndexDic.get(tag1)][tagIndexDic.get(tag2)] += 1\n",
    "    child.clear()\n",
    "    if (process % 1000000 == 0):\n",
    "        print(process, \" posts have been processed\")\n",
    "    process += 1"
   ]
  },
  {
   "cell_type": "code",
   "execution_count": 48,
   "metadata": {
    "autoscroll": false,
    "collapsed": false,
    "ein.hycell": false,
    "ein.tags": "worksheet-0",
    "slideshow": {
     "slide_type": "-"
    }
   },
   "outputs": [],
   "source": []
  },
  {
   "cell_type": "code",
   "execution_count": 45,
   "metadata": {
    "autoscroll": false,
    "collapsed": false,
    "ein.hycell": false,
    "ein.tags": "worksheet-0",
    "slideshow": {
     "slide_type": "-"
    }
   },
   "outputs": [
    {
     "name": "stdout",
     "output_type": "stream",
     "text": [
      "ready to write in file 2008\n",
      "finish writing the file 2008\n",
      "ready to write in file 2009\n",
      "finish writing the file 2009\n",
      "ready to write in file 2010\n",
      "finish writing the file 2010\n",
      "ready to write in file 2011\n",
      "finish writing the file 2011\n",
      "ready to write in file 2012\n",
      "finish writing the file 2012\n",
      "ready to write in file 2013\n",
      "finish writing the file 2013\n",
      "ready to write in file 2014\n",
      "finish writing the file 2014\n",
      "ready to write in file 2015\n",
      "finish writing the file 2015\n",
      "ready to write in file 2016\n",
      "finish writing the file 2016\n",
      "ready to write in file 2017\n",
      "finish writing the file 2017\n",
      "ready to write in file 2018\n",
      "finish writing the file 2018\n",
      "ready to write in file 2019\n",
      "finish writing the file 2019\n",
      "ready to write in file 2020\n",
      "finish writing the file 2020\n"
     ]
    }
   ],
   "source": [
    "# compute the top 70 tags each year and their combination and write the data as json files\n",
    "tagIndexDicRev = {v: k for k, v in tagIndexDic.items()}\n",
    "for year in years:\n",
    "    count = np.diag(countMat[year])\n",
    "    topIndex = np.argsort(count)\n",
    "    topTag = topIndex[-70:]\n",
    "    subMatrix = countMat[year][topTag,:][:,topTag]\n",
    "\n",
    "    nodes = []\n",
    "    links = []\n",
    "    for i in range(70):\n",
    "        nodes.append({\"tagName\": tagIndexDicRev[topTag[i]], \"count\":count[topTag[i]]})\n",
    "        for j in range(i + 1, 70):\n",
    "            if (subMatrix[i][j] > 0):\n",
    "                links.append({\"source\": tagIndexDicRev[topTag[i]], \"target\": tagIndexDicRev[topTag[j]], \"value\": subMatrix[i][j]})\n",
    "\n",
    "    outputJson = {\"nodes\": nodes, \"links\": links}\n",
    "    fileName = \"data/com\" + year + \".json\"\n",
    "    outputStr = json.dumps(outputJson)\n",
    "    print(\"ready to write in file \" + year)\n",
    "    with open(fileName, \"w\") as f:\n",
    "        f.write(outputStr)\n",
    "    print(\"finish writing the file \" + year)"
   ]
  },
  {
   "cell_type": "code",
   "execution_count": 48,
   "metadata": {
    "autoscroll": false,
    "collapsed": false,
    "ein.hycell": false,
    "ein.tags": "worksheet-0",
    "slideshow": {
     "slide_type": "-"
    }
   },
   "outputs": [
    {
     "name": "stdout",
     "output_type": "stream",
     "text": [
      "ready to write in file2008\n",
      "finish writing the file\n",
      "ready to write in file2009\n",
      "finish writing the file\n",
      "ready to write in file2010\n",
      "finish writing the file\n",
      "ready to write in file2011\n",
      "finish writing the file\n",
      "ready to write in file2012\n",
      "finish writing the file\n",
      "ready to write in file2013\n",
      "finish writing the file\n",
      "ready to write in file2014\n",
      "finish writing the file\n",
      "ready to write in file2015\n",
      "finish writing the file\n",
      "ready to write in file2016\n",
      "finish writing the file\n",
      "ready to write in file2017\n",
      "finish writing the file\n",
      "ready to write in file2018\n",
      "finish writing the file\n",
      "ready to write in file2019\n",
      "finish writing the file\n",
      "ready to write in file2020\n",
      "finish writing the file\n"
     ]
    }
   ],
   "source": [
    "# compute the top 200 tags each year and write the data as json files\n",
    "for year in years:\n",
    "    data = []\n",
    "    count = np.diag(countMat[year])\n",
    "    topIndex = np.argsort(count)\n",
    "    topTag = topIndex[-200:]\n",
    "    subMatrix = countMat[year][topTag,:][:,topTag]\n",
    "\n",
    "    for i in range(200):\n",
    "        data.append({\"tagName\": tagIndexDicRev[topTag[i]], \"count\":count[topTag[i]]})\n",
    "\n",
    "    fileName = \"data/Top200Tag\" + year + \".json\"\n",
    "    outputStr = json.dumps(data)\n",
    "    print(\"ready to write in file\" + year)\n",
    "    with open(fileName, \"w\") as f:\n",
    "        f.write(outputStr)\n",
    "    print(\"finish writing the file\")"
   ]
  },
  {
   "cell_type": "code",
   "execution_count": 88,
   "metadata": {
    "autoscroll": false,
    "collapsed": false,
    "ein.hycell": false,
    "ein.tags": "worksheet-0",
    "slideshow": {
     "slide_type": "-"
    }
   },
   "outputs": [],
   "source": [
    "index = 0\n",
    "tagIndexDic = {}\n",
    "for child in root:\n",
    "    if int(child.attrib.get(\"Count\")) > 1000:\n",
    "        tagIndexDic[child.attrib.get(\"TagName\")] = index\n",
    "        index += 1\n",
    "\n",
    "colNum = len(tagIndexDic.items())\n",
    "tagIndexDicRev = {v: k for k, v in tagIndexDic.items()}"
   ]
  },
  {
   "cell_type": "code",
   "execution_count": 77,
   "metadata": {
    "autoscroll": false,
    "collapsed": false,
    "ein.hycell": false,
    "ein.tags": "worksheet-0",
    "slideshow": {
     "slide_type": "-"
    }
   },
   "outputs": [],
   "source": [
    "# generate timeline 2018-01 -- 2020-12\n",
    "timeline = []\n",
    "for year in range(2008, 2021):\n",
    "    for month in range(1, 13):\n",
    "        timeline.append(\"{0:d}-{1:02d}\".format(year, month))\n",
    "\n",
    "rowNum = len(timeline)\n",
    "timeIndexDic = dict(zip(timeline, range(rowNum)))"
   ]
  },
  {
   "cell_type": "code",
   "execution_count": 79,
   "metadata": {
    "autoscroll": false,
    "collapsed": false,
    "ein.hycell": false,
    "ein.tags": "worksheet-0",
    "slideshow": {
     "slide_type": "-"
    }
   },
   "outputs": [
    {
     "name": "stdout",
     "output_type": "stream",
     "text": [
      "0  posts have been processed\n"
     ]
    },
    {
     "name": "stdout",
     "output_type": "stream",
     "text": [
      "1000000  posts have been processed\n"
     ]
    },
    {
     "name": "stdout",
     "output_type": "stream",
     "text": [
      "2000000  posts have been processed\n"
     ]
    },
    {
     "name": "stdout",
     "output_type": "stream",
     "text": [
      "3000000  posts have been processed\n"
     ]
    },
    {
     "name": "stdout",
     "output_type": "stream",
     "text": [
      "4000000  posts have been processed\n"
     ]
    },
    {
     "name": "stdout",
     "output_type": "stream",
     "text": [
      "5000000  posts have been processed\n"
     ]
    },
    {
     "name": "stdout",
     "output_type": "stream",
     "text": [
      "6000000  posts have been processed\n"
     ]
    },
    {
     "name": "stdout",
     "output_type": "stream",
     "text": [
      "7000000  posts have been processed\n"
     ]
    },
    {
     "name": "stdout",
     "output_type": "stream",
     "text": [
      "8000000  posts have been processed\n"
     ]
    },
    {
     "name": "stdout",
     "output_type": "stream",
     "text": [
      "9000000  posts have been processed\n"
     ]
    },
    {
     "name": "stdout",
     "output_type": "stream",
     "text": [
      "10000000  posts have been processed\n"
     ]
    },
    {
     "name": "stdout",
     "output_type": "stream",
     "text": [
      "11000000  posts have been processed\n"
     ]
    },
    {
     "name": "stdout",
     "output_type": "stream",
     "text": [
      "12000000  posts have been processed\n"
     ]
    },
    {
     "name": "stdout",
     "output_type": "stream",
     "text": [
      "13000000  posts have been processed\n"
     ]
    },
    {
     "name": "stdout",
     "output_type": "stream",
     "text": [
      "14000000  posts have been processed\n"
     ]
    },
    {
     "name": "stdout",
     "output_type": "stream",
     "text": [
      "15000000  posts have been processed\n"
     ]
    },
    {
     "name": "stdout",
     "output_type": "stream",
     "text": [
      "16000000  posts have been processed\n"
     ]
    },
    {
     "name": "stdout",
     "output_type": "stream",
     "text": [
      "17000000  posts have been processed\n"
     ]
    },
    {
     "name": "stdout",
     "output_type": "stream",
     "text": [
      "18000000  posts have been processed\n"
     ]
    },
    {
     "name": "stdout",
     "output_type": "stream",
     "text": [
      "19000000  posts have been processed\n"
     ]
    },
    {
     "name": "stdout",
     "output_type": "stream",
     "text": [
      "20000000  posts have been processed\n"
     ]
    },
    {
     "name": "stdout",
     "output_type": "stream",
     "text": [
      "21000000  posts have been processed\n"
     ]
    },
    {
     "name": "stdout",
     "output_type": "stream",
     "text": [
      "22000000  posts have been processed\n"
     ]
    },
    {
     "name": "stdout",
     "output_type": "stream",
     "text": [
      "23000000  posts have been processed\n"
     ]
    },
    {
     "name": "stdout",
     "output_type": "stream",
     "text": [
      "24000000  posts have been processed\n"
     ]
    },
    {
     "name": "stdout",
     "output_type": "stream",
     "text": [
      "25000000  posts have been processed\n"
     ]
    },
    {
     "name": "stdout",
     "output_type": "stream",
     "text": [
      "26000000  posts have been processed\n"
     ]
    },
    {
     "name": "stdout",
     "output_type": "stream",
     "text": [
      "27000000  posts have been processed\n"
     ]
    },
    {
     "name": "stdout",
     "output_type": "stream",
     "text": [
      "28000000  posts have been processed\n"
     ]
    },
    {
     "name": "stdout",
     "output_type": "stream",
     "text": [
      "29000000  posts have been processed\n"
     ]
    },
    {
     "name": "stdout",
     "output_type": "stream",
     "text": [
      "30000000  posts have been processed\n"
     ]
    },
    {
     "name": "stdout",
     "output_type": "stream",
     "text": [
      "31000000  posts have been processed\n"
     ]
    },
    {
     "name": "stdout",
     "output_type": "stream",
     "text": [
      "32000000  posts have been processed\n"
     ]
    },
    {
     "name": "stdout",
     "output_type": "stream",
     "text": [
      "33000000  posts have been processed\n"
     ]
    },
    {
     "name": "stdout",
     "output_type": "stream",
     "text": [
      "34000000  posts have been processed\n"
     ]
    },
    {
     "name": "stdout",
     "output_type": "stream",
     "text": [
      "35000000  posts have been processed\n"
     ]
    },
    {
     "name": "stdout",
     "output_type": "stream",
     "text": [
      "36000000  posts have been processed\n"
     ]
    },
    {
     "name": "stdout",
     "output_type": "stream",
     "text": [
      "37000000  posts have been processed\n"
     ]
    },
    {
     "name": "stdout",
     "output_type": "stream",
     "text": [
      "38000000  posts have been processed\n"
     ]
    },
    {
     "name": "stdout",
     "output_type": "stream",
     "text": [
      "39000000  posts have been processed\n"
     ]
    },
    {
     "name": "stdout",
     "output_type": "stream",
     "text": [
      "40000000  posts have been processed\n"
     ]
    },
    {
     "name": "stdout",
     "output_type": "stream",
     "text": [
      "41000000  posts have been processed\n"
     ]
    },
    {
     "name": "stdout",
     "output_type": "stream",
     "text": [
      "42000000  posts have been processed\n"
     ]
    },
    {
     "name": "stdout",
     "output_type": "stream",
     "text": [
      "43000000  posts have been processed\n"
     ]
    },
    {
     "name": "stdout",
     "output_type": "stream",
     "text": [
      "44000000  posts have been processed\n"
     ]
    },
    {
     "name": "stdout",
     "output_type": "stream",
     "text": [
      "45000000  posts have been processed\n"
     ]
    },
    {
     "name": "stdout",
     "output_type": "stream",
     "text": [
      "46000000  posts have been processed\n"
     ]
    },
    {
     "name": "stdout",
     "output_type": "stream",
     "text": [
      "47000000  posts have been processed\n"
     ]
    },
    {
     "name": "stdout",
     "output_type": "stream",
     "text": [
      "48000000  posts have been processed\n"
     ]
    },
    {
     "name": "stdout",
     "output_type": "stream",
     "text": [
      "49000000  posts have been processed\n"
     ]
    },
    {
     "name": "stdout",
     "output_type": "stream",
     "text": [
      "50000000  posts have been processed\n"
     ]
    }
   ],
   "source": [
    "# count the process,\n",
    "process = 0 \n",
    "# init a matrix that helps counting for the tags frequency.\n",
    "countMat = np.zeros((rowNum, colNum))\n",
    "\n",
    "for event, child in ET.iterparse(\"data/Posts.xml\"):\n",
    "    if event == \"end\":\n",
    "        attr = child.attrib\n",
    "        if \"Tags\" in attr:\n",
    "            # parse time\n",
    "            if \"CreationDate\" in attr:\n",
    "                time = attr[\"CreationDate\"][:7]\n",
    "                # parse tag\n",
    "                tags = re.findall(r\"<(.+?)>\", attr[\"Tags\"])\n",
    "                for tag in tags:\n",
    "                    if (tag in tagIndexDic):\n",
    "                        # count the number into the matrix\n",
    "                        countMat[timeIndexDic.get(time)][tagIndexDic.get(tag)] += 1\n",
    "    child.clear()\n",
    "    if (process % 1000000 == 0):\n",
    "        print(process, \" posts have been processed\")\n",
    "    process += 1"
   ]
  },
  {
   "cell_type": "code",
   "execution_count": 87,
   "metadata": {
    "autoscroll": false,
    "collapsed": false,
    "ein.hycell": false,
    "ein.tags": "worksheet-0",
    "slideshow": {
     "slide_type": "-"
    }
   },
   "outputs": [
    {
     "data": {
      "text/plain": [
       "array([0.00000e+00, 0.00000e+00, 0.00000e+00, 0.00000e+00, 0.00000e+00,\n       0.00000e+00, 1.50000e+01, 1.00720e+04, 3.66910e+04, 3.85190e+04,\n       3.32710e+04, 3.13550e+04, 4.19180e+04, 4.64820e+04, 5.35770e+04,\n       5.60410e+04, 6.80920e+04, 7.40110e+04, 8.48860e+04, 8.50820e+04,\n       8.60860e+04, 9.48250e+04, 9.94020e+04, 9.73480e+04, 1.16549e+05,\n       1.17994e+05, 1.36103e+05, 1.30992e+05, 1.35912e+05, 1.44225e+05,\n       1.56792e+05, 1.63717e+05, 1.58389e+05, 1.65110e+05, 1.80889e+05,\n       1.81050e+05, 2.11663e+05, 2.18830e+05, 2.66264e+05, 2.53346e+05,\n       2.67810e+05, 2.67366e+05, 2.72826e+05, 2.86724e+05, 2.72113e+05,\n       2.72163e+05, 2.93517e+05, 2.79201e+05, 3.15273e+05, 3.33170e+05,\n       3.59109e+05, 3.48418e+05, 3.63170e+05, 3.52985e+05, 3.82938e+05,\n       3.81529e+05, 3.57678e+05, 4.03005e+05, 3.98495e+05, 3.64828e+05,\n       4.25290e+05, 4.12292e+05, 4.69113e+05, 4.65480e+05, 4.50084e+05,\n       4.28311e+05, 4.77471e+05, 4.61832e+05, 4.57268e+05, 5.09740e+05,\n       4.89661e+05, 4.60365e+05, 5.26508e+05, 5.20789e+05, 5.74566e+05,\n       5.38497e+05, 4.87330e+05, 4.50252e+05, 4.92188e+05, 4.52815e+05,\n       4.57893e+05, 4.77186e+05, 4.59620e+05, 4.29720e+05, 4.59804e+05,\n       4.64413e+05, 5.23100e+05, 5.23450e+05, 5.12752e+05, 5.18577e+05,\n       5.41546e+05, 5.02685e+05, 4.89916e+05, 5.12578e+05, 4.88010e+05,\n       4.73232e+05, 4.97642e+05, 5.15113e+05, 5.49778e+05, 5.37480e+05,\n       5.18030e+05, 5.04808e+05, 4.87264e+05, 4.99222e+05, 4.70140e+05,\n       4.79220e+05, 4.79181e+05, 4.45933e+05, 4.86473e+05, 4.79150e+05,\n       5.50428e+05, 4.86987e+05, 5.10090e+05, 4.88336e+05, 4.92849e+05,\n       4.85874e+05, 4.42344e+05, 4.64441e+05, 4.61557e+05, 3.97818e+05,\n       4.40192e+05, 4.15532e+05, 4.64020e+05, 4.36602e+05, 4.49707e+05,\n       4.14463e+05, 4.30018e+05, 4.27371e+05, 3.86898e+05, 4.28007e+05,\n       4.00200e+05, 3.54328e+05, 3.94642e+05, 3.86123e+05, 4.25276e+05,\n       3.99849e+05, 3.95420e+05, 3.57281e+05, 3.98844e+05, 3.61530e+05,\n       4.06839e+05, 4.71299e+05, 4.64515e+05, 4.17103e+05, 4.59254e+05,\n       4.59044e+05, 5.07636e+05, 6.04479e+05, 6.12776e+05, 5.63821e+05,\n       5.46211e+05, 5.21008e+05, 9.77700e+04, 0.00000e+00, 0.00000e+00,\n       0.00000e+00])"
      ]
     },
     "execution_count": 87,
     "metadata": {},
     "output_type": "execute_result"
    }
   ],
   "source": [
    "# find the month that does not have data\n",
    "np.sum(countMat, axis = 1)"
   ]
  },
  {
   "cell_type": "code",
   "execution_count": 94,
   "metadata": {
    "autoscroll": false,
    "collapsed": false,
    "ein.hycell": false,
    "ein.tags": "worksheet-0",
    "slideshow": {
     "slide_type": "-"
    }
   },
   "outputs": [
    {
     "data": {
      "text/html": [
       "<div>\n<style scoped>\n    .dataframe tbody tr th:only-of-type {\n        vertical-align: middle;\n    }\n\n    .dataframe tbody tr th {\n        vertical-align: top;\n    }\n\n    .dataframe thead th {\n        text-align: right;\n    }\n</style>\n<table border=\"1\" class=\"dataframe\">\n  <thead>\n    <tr style=\"text-align: right;\">\n      <th></th>\n      <th>.net</th>\n      <th>html</th>\n      <th>javascript</th>\n      <th>css</th>\n      <th>php</th>\n      <th>c</th>\n      <th>c#</th>\n      <th>c++</th>\n      <th>ruby</th>\n      <th>lisp</th>\n      <th>...</th>\n      <th>ios13</th>\n      <th>swiftui</th>\n      <th>xcode11</th>\n      <th>macos-catalina</th>\n      <th>confluent-platform</th>\n      <th>laravel-6</th>\n      <th>angular9</th>\n      <th>asp.net-core-3.1</th>\n      <th>laravel-7</th>\n      <th>microsoft-graph-api</th>\n    </tr>\n  </thead>\n  <tbody>\n    <tr>\n      <th>2008-07</th>\n      <td>1.0</td>\n      <td>1.0</td>\n      <td>0.0</td>\n      <td>1.0</td>\n      <td>0.0</td>\n      <td>0.0</td>\n      <td>3.0</td>\n      <td>0.0</td>\n      <td>0.0</td>\n      <td>0.0</td>\n      <td>...</td>\n      <td>0.0</td>\n      <td>0.0</td>\n      <td>0.0</td>\n      <td>0.0</td>\n      <td>0.0</td>\n      <td>0.0</td>\n      <td>0.0</td>\n      <td>0.0</td>\n      <td>0.0</td>\n      <td>0.0</td>\n    </tr>\n    <tr>\n      <th>2008-08</th>\n      <td>442.0</td>\n      <td>112.0</td>\n      <td>162.0</td>\n      <td>62.0</td>\n      <td>161.0</td>\n      <td>85.0</td>\n      <td>511.0</td>\n      <td>164.0</td>\n      <td>73.0</td>\n      <td>9.0</td>\n      <td>...</td>\n      <td>0.0</td>\n      <td>0.0</td>\n      <td>0.0</td>\n      <td>0.0</td>\n      <td>0.0</td>\n      <td>0.0</td>\n      <td>0.0</td>\n      <td>0.0</td>\n      <td>0.0</td>\n      <td>0.0</td>\n    </tr>\n    <tr>\n      <th>2008-09</th>\n      <td>1542.0</td>\n      <td>327.0</td>\n      <td>640.0</td>\n      <td>237.0</td>\n      <td>482.0</td>\n      <td>320.0</td>\n      <td>1649.0</td>\n      <td>755.0</td>\n      <td>290.0</td>\n      <td>41.0</td>\n      <td>...</td>\n      <td>0.0</td>\n      <td>0.0</td>\n      <td>0.0</td>\n      <td>0.0</td>\n      <td>0.0</td>\n      <td>0.0</td>\n      <td>0.0</td>\n      <td>0.0</td>\n      <td>0.0</td>\n      <td>0.0</td>\n    </tr>\n    <tr>\n      <th>2008-10</th>\n      <td>1566.0</td>\n      <td>332.0</td>\n      <td>725.0</td>\n      <td>225.0</td>\n      <td>617.0</td>\n      <td>303.0</td>\n      <td>1989.0</td>\n      <td>811.0</td>\n      <td>249.0</td>\n      <td>22.0</td>\n      <td>...</td>\n      <td>0.0</td>\n      <td>0.0</td>\n      <td>0.0</td>\n      <td>0.0</td>\n      <td>0.0</td>\n      <td>0.0</td>\n      <td>0.0</td>\n      <td>0.0</td>\n      <td>0.0</td>\n      <td>0.0</td>\n    </tr>\n    <tr>\n      <th>2008-11</th>\n      <td>1203.0</td>\n      <td>329.0</td>\n      <td>580.0</td>\n      <td>203.0</td>\n      <td>504.0</td>\n      <td>259.0</td>\n      <td>1730.0</td>\n      <td>735.0</td>\n      <td>160.0</td>\n      <td>19.0</td>\n      <td>...</td>\n      <td>0.0</td>\n      <td>0.0</td>\n      <td>0.0</td>\n      <td>0.0</td>\n      <td>0.0</td>\n      <td>0.0</td>\n      <td>0.0</td>\n      <td>0.0</td>\n      <td>0.0</td>\n      <td>0.0</td>\n    </tr>\n    <tr>\n      <th>...</th>\n      <td>...</td>\n      <td>...</td>\n      <td>...</td>\n      <td>...</td>\n      <td>...</td>\n      <td>...</td>\n      <td>...</td>\n      <td>...</td>\n      <td>...</td>\n      <td>...</td>\n      <td>...</td>\n      <td>...</td>\n      <td>...</td>\n      <td>...</td>\n      <td>...</td>\n      <td>...</td>\n      <td>...</td>\n      <td>...</td>\n      <td>...</td>\n      <td>...</td>\n      <td>...</td>\n    </tr>\n    <tr>\n      <th>2020-05</th>\n      <td>1526.0</td>\n      <td>10062.0</td>\n      <td>25175.0</td>\n      <td>6534.0</td>\n      <td>7907.0</td>\n      <td>3600.0</td>\n      <td>9915.0</td>\n      <td>7059.0</td>\n      <td>774.0</td>\n      <td>41.0</td>\n      <td>...</td>\n      <td>83.0</td>\n      <td>939.0</td>\n      <td>73.0</td>\n      <td>128.0</td>\n      <td>48.0</td>\n      <td>87.0</td>\n      <td>307.0</td>\n      <td>164.0</td>\n      <td>230.0</td>\n      <td>274.0</td>\n    </tr>\n    <tr>\n      <th>2020-06</th>\n      <td>1471.0</td>\n      <td>9295.0</td>\n      <td>23347.0</td>\n      <td>6055.0</td>\n      <td>7175.0</td>\n      <td>2751.0</td>\n      <td>9041.0</td>\n      <td>6147.0</td>\n      <td>670.0</td>\n      <td>20.0</td>\n      <td>...</td>\n      <td>66.0</td>\n      <td>934.0</td>\n      <td>51.0</td>\n      <td>101.0</td>\n      <td>81.0</td>\n      <td>86.0</td>\n      <td>312.0</td>\n      <td>155.0</td>\n      <td>238.0</td>\n      <td>299.0</td>\n    </tr>\n    <tr>\n      <th>2020-07</th>\n      <td>1462.0</td>\n      <td>9026.0</td>\n      <td>23440.0</td>\n      <td>5925.0</td>\n      <td>7003.0</td>\n      <td>2259.0</td>\n      <td>8946.0</td>\n      <td>5647.0</td>\n      <td>760.0</td>\n      <td>21.0</td>\n      <td>...</td>\n      <td>58.0</td>\n      <td>1070.0</td>\n      <td>51.0</td>\n      <td>86.0</td>\n      <td>68.0</td>\n      <td>77.0</td>\n      <td>219.0</td>\n      <td>213.0</td>\n      <td>258.0</td>\n      <td>282.0</td>\n    </tr>\n    <tr>\n      <th>2020-08</th>\n      <td>1385.0</td>\n      <td>8603.0</td>\n      <td>22440.0</td>\n      <td>5776.0</td>\n      <td>6878.0</td>\n      <td>2163.0</td>\n      <td>8885.0</td>\n      <td>5493.0</td>\n      <td>633.0</td>\n      <td>13.0</td>\n      <td>...</td>\n      <td>55.0</td>\n      <td>951.0</td>\n      <td>41.0</td>\n      <td>95.0</td>\n      <td>42.0</td>\n      <td>48.0</td>\n      <td>160.0</td>\n      <td>172.0</td>\n      <td>255.0</td>\n      <td>282.0</td>\n    </tr>\n    <tr>\n      <th>2020-09</th>\n      <td>264.0</td>\n      <td>1675.0</td>\n      <td>4054.0</td>\n      <td>1087.0</td>\n      <td>1409.0</td>\n      <td>455.0</td>\n      <td>1703.0</td>\n      <td>962.0</td>\n      <td>103.0</td>\n      <td>9.0</td>\n      <td>...</td>\n      <td>8.0</td>\n      <td>162.0</td>\n      <td>9.0</td>\n      <td>14.0</td>\n      <td>4.0</td>\n      <td>7.0</td>\n      <td>43.0</td>\n      <td>32.0</td>\n      <td>41.0</td>\n      <td>57.0</td>\n    </tr>\n  </tbody>\n</table>\n<p>147 rows × 4786 columns</p>\n</div>"
      ],
      "text/plain": [
       "           .net     html  javascript     css     php       c      c#     c++  \\\n2008-07     1.0      1.0         0.0     1.0     0.0     0.0     3.0     0.0   \n2008-08   442.0    112.0       162.0    62.0   161.0    85.0   511.0   164.0   \n2008-09  1542.0    327.0       640.0   237.0   482.0   320.0  1649.0   755.0   \n2008-10  1566.0    332.0       725.0   225.0   617.0   303.0  1989.0   811.0   \n2008-11  1203.0    329.0       580.0   203.0   504.0   259.0  1730.0   735.0   \n...         ...      ...         ...     ...     ...     ...     ...     ...   \n2020-05  1526.0  10062.0     25175.0  6534.0  7907.0  3600.0  9915.0  7059.0   \n2020-06  1471.0   9295.0     23347.0  6055.0  7175.0  2751.0  9041.0  6147.0   \n2020-07  1462.0   9026.0     23440.0  5925.0  7003.0  2259.0  8946.0  5647.0   \n2020-08  1385.0   8603.0     22440.0  5776.0  6878.0  2163.0  8885.0  5493.0   \n2020-09   264.0   1675.0      4054.0  1087.0  1409.0   455.0  1703.0   962.0   \n\n          ruby  lisp  ...  ios13  swiftui  xcode11  macos-catalina  \\\n2008-07    0.0   0.0  ...    0.0      0.0      0.0             0.0   \n2008-08   73.0   9.0  ...    0.0      0.0      0.0             0.0   \n2008-09  290.0  41.0  ...    0.0      0.0      0.0             0.0   \n2008-10  249.0  22.0  ...    0.0      0.0      0.0             0.0   \n2008-11  160.0  19.0  ...    0.0      0.0      0.0             0.0   \n...        ...   ...  ...    ...      ...      ...             ...   \n2020-05  774.0  41.0  ...   83.0    939.0     73.0           128.0   \n2020-06  670.0  20.0  ...   66.0    934.0     51.0           101.0   \n2020-07  760.0  21.0  ...   58.0   1070.0     51.0            86.0   \n2020-08  633.0  13.0  ...   55.0    951.0     41.0            95.0   \n2020-09  103.0   9.0  ...    8.0    162.0      9.0            14.0   \n\n         confluent-platform  laravel-6  angular9  asp.net-core-3.1  laravel-7  \\\n2008-07                 0.0        0.0       0.0               0.0        0.0   \n2008-08                 0.0        0.0       0.0               0.0        0.0   \n2008-09                 0.0        0.0       0.0               0.0        0.0   \n2008-10                 0.0        0.0       0.0               0.0        0.0   \n2008-11                 0.0        0.0       0.0               0.0        0.0   \n...                     ...        ...       ...               ...        ...   \n2020-05                48.0       87.0     307.0             164.0      230.0   \n2020-06                81.0       86.0     312.0             155.0      238.0   \n2020-07                68.0       77.0     219.0             213.0      258.0   \n2020-08                42.0       48.0     160.0             172.0      255.0   \n2020-09                 4.0        7.0      43.0              32.0       41.0   \n\n         microsoft-graph-api  \n2008-07                  0.0  \n2008-08                  0.0  \n2008-09                  0.0  \n2008-10                  0.0  \n2008-11                  0.0  \n...                      ...  \n2020-05                274.0  \n2020-06                299.0  \n2020-07                282.0  \n2020-08                282.0  \n2020-09                 57.0  \n\n[147 rows x 4786 columns]"
      ]
     },
     "execution_count": 94,
     "metadata": {},
     "output_type": "execute_result"
    }
   ],
   "source": [
    "df = pd.DataFrame(countMat)\n",
    "df.columns = [tagIndexDicRev[i] for i in range(colNum)]\n",
    "df.index = timeline\n",
    "df = df.drop(timeline[:6])\n",
    "df = df.drop(timeline[-3:])\n",
    "df"
   ]
  },
  {
   "cell_type": "code",
   "execution_count": 97,
   "metadata": {
    "autoscroll": false,
    "collapsed": false,
    "ein.hycell": false,
    "ein.tags": "worksheet-0",
    "slideshow": {
     "slide_type": "-"
    }
   },
   "outputs": [],
   "source": [
    "df.to_csv(\"data/monthlyCountPerTag.csv\", index=False)"
   ]
  },
  {
   "cell_type": "code",
   "execution_count": 98,
   "metadata": {
    "autoscroll": false,
    "collapsed": false,
    "ein.hycell": false,
    "ein.tags": "worksheet-0",
    "slideshow": {
     "slide_type": "-"
    }
   },
   "outputs": [
    {
     "name": "stdout",
     "output_type": "stream",
     "text": [
      "0  posts have been processed\n"
     ]
    },
    {
     "name": "stdout",
     "output_type": "stream",
     "text": [
      "1000000  posts have been processed\n"
     ]
    },
    {
     "name": "stdout",
     "output_type": "stream",
     "text": [
      "2000000  posts have been processed\n"
     ]
    },
    {
     "name": "stdout",
     "output_type": "stream",
     "text": [
      "3000000  posts have been processed\n"
     ]
    },
    {
     "name": "stdout",
     "output_type": "stream",
     "text": [
      "4000000  posts have been processed\n"
     ]
    },
    {
     "name": "stdout",
     "output_type": "stream",
     "text": [
      "5000000  posts have been processed\n"
     ]
    },
    {
     "name": "stdout",
     "output_type": "stream",
     "text": [
      "6000000  posts have been processed\n"
     ]
    },
    {
     "name": "stdout",
     "output_type": "stream",
     "text": [
      "7000000  posts have been processed\n"
     ]
    },
    {
     "name": "stdout",
     "output_type": "stream",
     "text": [
      "8000000  posts have been processed\n"
     ]
    },
    {
     "name": "stdout",
     "output_type": "stream",
     "text": [
      "9000000  posts have been processed\n"
     ]
    },
    {
     "name": "stdout",
     "output_type": "stream",
     "text": [
      "10000000  posts have been processed\n"
     ]
    },
    {
     "name": "stdout",
     "output_type": "stream",
     "text": [
      "11000000  posts have been processed\n"
     ]
    },
    {
     "name": "stdout",
     "output_type": "stream",
     "text": [
      "12000000  posts have been processed\n"
     ]
    },
    {
     "name": "stdout",
     "output_type": "stream",
     "text": [
      "13000000  posts have been processed\n"
     ]
    },
    {
     "name": "stdout",
     "output_type": "stream",
     "text": [
      "14000000  posts have been processed\n"
     ]
    },
    {
     "name": "stdout",
     "output_type": "stream",
     "text": [
      "15000000  posts have been processed\n"
     ]
    },
    {
     "name": "stdout",
     "output_type": "stream",
     "text": [
      "16000000  posts have been processed\n"
     ]
    },
    {
     "name": "stdout",
     "output_type": "stream",
     "text": [
      "17000000  posts have been processed\n"
     ]
    },
    {
     "name": "stdout",
     "output_type": "stream",
     "text": [
      "18000000  posts have been processed\n"
     ]
    },
    {
     "name": "stdout",
     "output_type": "stream",
     "text": [
      "19000000  posts have been processed\n"
     ]
    },
    {
     "name": "stdout",
     "output_type": "stream",
     "text": [
      "20000000  posts have been processed\n"
     ]
    },
    {
     "name": "stdout",
     "output_type": "stream",
     "text": [
      "21000000  posts have been processed\n"
     ]
    },
    {
     "name": "stdout",
     "output_type": "stream",
     "text": [
      "22000000  posts have been processed\n"
     ]
    },
    {
     "name": "stdout",
     "output_type": "stream",
     "text": [
      "23000000  posts have been processed\n"
     ]
    },
    {
     "name": "stdout",
     "output_type": "stream",
     "text": [
      "24000000  posts have been processed\n"
     ]
    },
    {
     "name": "stdout",
     "output_type": "stream",
     "text": [
      "25000000  posts have been processed\n"
     ]
    },
    {
     "name": "stdout",
     "output_type": "stream",
     "text": [
      "26000000  posts have been processed\n"
     ]
    },
    {
     "name": "stdout",
     "output_type": "stream",
     "text": [
      "27000000  posts have been processed\n"
     ]
    },
    {
     "name": "stdout",
     "output_type": "stream",
     "text": [
      "28000000  posts have been processed\n"
     ]
    },
    {
     "name": "stdout",
     "output_type": "stream",
     "text": [
      "29000000  posts have been processed\n"
     ]
    },
    {
     "name": "stdout",
     "output_type": "stream",
     "text": [
      "30000000  posts have been processed\n"
     ]
    },
    {
     "name": "stdout",
     "output_type": "stream",
     "text": [
      "31000000  posts have been processed\n"
     ]
    },
    {
     "name": "stdout",
     "output_type": "stream",
     "text": [
      "32000000  posts have been processed\n"
     ]
    },
    {
     "name": "stdout",
     "output_type": "stream",
     "text": [
      "33000000  posts have been processed\n"
     ]
    },
    {
     "name": "stdout",
     "output_type": "stream",
     "text": [
      "34000000  posts have been processed\n"
     ]
    },
    {
     "name": "stdout",
     "output_type": "stream",
     "text": [
      "35000000  posts have been processed\n"
     ]
    },
    {
     "name": "stdout",
     "output_type": "stream",
     "text": [
      "36000000  posts have been processed\n"
     ]
    },
    {
     "name": "stdout",
     "output_type": "stream",
     "text": [
      "37000000  posts have been processed\n"
     ]
    },
    {
     "name": "stdout",
     "output_type": "stream",
     "text": [
      "38000000  posts have been processed\n"
     ]
    },
    {
     "name": "stdout",
     "output_type": "stream",
     "text": [
      "39000000  posts have been processed\n"
     ]
    },
    {
     "name": "stdout",
     "output_type": "stream",
     "text": [
      "40000000  posts have been processed\n"
     ]
    },
    {
     "name": "stdout",
     "output_type": "stream",
     "text": [
      "41000000  posts have been processed\n"
     ]
    },
    {
     "name": "stdout",
     "output_type": "stream",
     "text": [
      "42000000  posts have been processed\n"
     ]
    },
    {
     "name": "stdout",
     "output_type": "stream",
     "text": [
      "43000000  posts have been processed\n"
     ]
    },
    {
     "name": "stdout",
     "output_type": "stream",
     "text": [
      "44000000  posts have been processed\n"
     ]
    },
    {
     "name": "stdout",
     "output_type": "stream",
     "text": [
      "45000000  posts have been processed\n"
     ]
    },
    {
     "name": "stdout",
     "output_type": "stream",
     "text": [
      "46000000  posts have been processed\n"
     ]
    },
    {
     "name": "stdout",
     "output_type": "stream",
     "text": [
      "47000000  posts have been processed\n"
     ]
    },
    {
     "name": "stdout",
     "output_type": "stream",
     "text": [
      "48000000  posts have been processed\n"
     ]
    },
    {
     "name": "stdout",
     "output_type": "stream",
     "text": [
      "49000000  posts have been processed\n"
     ]
    },
    {
     "name": "stdout",
     "output_type": "stream",
     "text": [
      "50000000  posts have been processed\n"
     ]
    }
   ],
   "source": [
    "# count the process,\n",
    "process = 0 \n",
    "# init a matrix that helps counting for the tags frequency.\n",
    "countMat = np.zeros((rowNum, 1))\n",
    "\n",
    "for event, child in ET.iterparse(\"data/Posts.xml\"):\n",
    "    if event == \"end\":\n",
    "        attr = child.attrib\n",
    "        if \"CreationDate\" in attr:\n",
    "            time = attr[\"CreationDate\"][:7]\n",
    "            countMat[timeIndexDic.get(time)][0] += 1\n",
    "    child.clear()\n",
    "    if (process % 1000000 == 0):\n",
    "        print(process, \" posts have been processed\")\n",
    "    process += 1"
   ]
  },
  {
   "cell_type": "code",
   "execution_count": 99,
   "metadata": {
    "autoscroll": false,
    "collapsed": false,
    "ein.hycell": false,
    "ein.tags": "worksheet-0",
    "slideshow": {
     "slide_type": "-"
    }
   },
   "outputs": [
    {
     "name": "stdout",
     "output_type": "stream",
     "text": [
      "[[0.00000e+00]\n",
      " [0.00000e+00]\n",
      " [0.00000e+00]\n",
      " [0.00000e+00]\n",
      " [0.00000e+00]\n",
      " [0.00000e+00]\n",
      " [6.00000e+00]\n",
      " [1.90640e+04]\n",
      " [7.57810e+04]\n",
      " [6.92790e+04]\n",
      " [5.39260e+04]\n",
      " [5.27010e+04]\n",
      " [6.94450e+04]\n",
      " [7.58050e+04]\n",
      " [8.28780e+04]\n",
      " [8.50040e+04]\n",
      " [1.00534e+05]\n",
      " [1.09283e+05]\n",
      " [1.21420e+05]\n",
      " [1.18105e+05]\n",
      " [1.16499e+05]\n",
      " [1.27898e+05]\n",
      " [1.38024e+05]\n",
      " [1.35436e+05]\n",
      " [1.54675e+05]\n",
      " [1.48766e+05]\n",
      " [1.68961e+05]\n",
      " [1.58054e+05]\n",
      " [1.63189e+05]\n",
      " [1.72807e+05]\n",
      " [1.89244e+05]\n",
      " [1.95822e+05]\n",
      " [1.85975e+05]\n",
      " [1.92825e+05]\n",
      " [2.13742e+05]\n",
      " [2.11107e+05]\n",
      " [2.42742e+05]\n",
      " [2.48620e+05]\n",
      " [3.04816e+05]\n",
      " [2.85360e+05]\n",
      " [2.96127e+05]\n",
      " [2.93871e+05]\n",
      " [2.96034e+05]\n",
      " [3.14693e+05]\n",
      " [2.93473e+05]\n",
      " [2.88760e+05]\n",
      " [3.14124e+05]\n",
      " [2.99384e+05]\n",
      " [3.34419e+05]\n",
      " [3.52057e+05]\n",
      " [3.77693e+05]\n",
      " [3.59400e+05]\n",
      " [3.73808e+05]\n",
      " [3.61180e+05]\n",
      " [3.90725e+05]\n",
      " [3.90860e+05]\n",
      " [3.61569e+05]\n",
      " [4.11747e+05]\n",
      " [3.99370e+05]\n",
      " [3.68247e+05]\n",
      " [4.27441e+05]\n",
      " [4.12057e+05]\n",
      " [4.67360e+05]\n",
      " [4.57559e+05]\n",
      " [4.44582e+05]\n",
      " [4.19545e+05]\n",
      " [4.68850e+05]\n",
      " [4.56950e+05]\n",
      " [4.39941e+05]\n",
      " [4.88474e+05]\n",
      " [4.63702e+05]\n",
      " [4.41917e+05]\n",
      " [5.01363e+05]\n",
      " [4.90764e+05]\n",
      " [5.31114e+05]\n",
      " [4.94552e+05]\n",
      " [4.44683e+05]\n",
      " [4.05090e+05]\n",
      " [4.44693e+05]\n",
      " [4.10952e+05]\n",
      " [4.14655e+05]\n",
      " [4.29186e+05]\n",
      " [4.14203e+05]\n",
      " [3.91193e+05]\n",
      " [4.12319e+05]\n",
      " [4.15146e+05]\n",
      " [4.63325e+05]\n",
      " [4.75920e+05]\n",
      " [4.62504e+05]\n",
      " [4.63202e+05]\n",
      " [4.81554e+05]\n",
      " [4.47008e+05]\n",
      " [4.37582e+05]\n",
      " [4.54754e+05]\n",
      " [4.32012e+05]\n",
      " [4.24194e+05]\n",
      " [4.46037e+05]\n",
      " [4.60087e+05]\n",
      " [4.91130e+05]\n",
      " [4.77373e+05]\n",
      " [4.61751e+05]\n",
      " [4.45947e+05]\n",
      " [4.27838e+05]\n",
      " [4.40242e+05]\n",
      " [4.15464e+05]\n",
      " [4.21514e+05]\n",
      " [4.19029e+05]\n",
      " [3.93117e+05]\n",
      " [4.29434e+05]\n",
      " [4.23943e+05]\n",
      " [4.84399e+05]\n",
      " [4.26901e+05]\n",
      " [4.46692e+05]\n",
      " [4.27054e+05]\n",
      " [4.34834e+05]\n",
      " [4.30958e+05]\n",
      " [3.90337e+05]\n",
      " [4.05403e+05]\n",
      " [4.02008e+05]\n",
      " [3.45359e+05]\n",
      " [3.82063e+05]\n",
      " [3.64656e+05]\n",
      " [4.11199e+05]\n",
      " [3.85742e+05]\n",
      " [3.95731e+05]\n",
      " [3.64673e+05]\n",
      " [3.80205e+05]\n",
      " [3.81658e+05]\n",
      " [3.48544e+05]\n",
      " [3.85800e+05]\n",
      " [3.55703e+05]\n",
      " [3.18728e+05]\n",
      " [3.62344e+05]\n",
      " [3.53976e+05]\n",
      " [3.86477e+05]\n",
      " [3.65869e+05]\n",
      " [3.58837e+05]\n",
      " [3.23617e+05]\n",
      " [3.58689e+05]\n",
      " [3.31732e+05]\n",
      " [3.48258e+05]\n",
      " [3.90793e+05]\n",
      " [3.82242e+05]\n",
      " [3.42838e+05]\n",
      " [3.75306e+05]\n",
      " [3.70376e+05]\n",
      " [3.92239e+05]\n",
      " [4.62636e+05]\n",
      " [4.76310e+05]\n",
      " [4.39889e+05]\n",
      " [4.27587e+05]\n",
      " [3.98615e+05]\n",
      " [7.19780e+04]\n",
      " [0.00000e+00]\n",
      " [0.00000e+00]\n",
      " [0.00000e+00]]\n"
     ]
    }
   ],
   "source": [
    "totalPostCount = []\n",
    "for i in range(6, rowNum - 3):\n",
    "    totalPostCount.append({\"date\": timeline[i], \"count\": countMat[i][0]})\n",
    "\n",
    "outputData = json.dumps(totalPostCount)\n",
    "fileName = \"data/totalPostCountPerMonth.json\"\n",
    "with open(fileName, \"w\") as f:\n",
    "    f.write(outputData)\n",
    "print(countMat)"
   ]
  },
  {
   "cell_type": "code",
   "execution_count": 110,
   "metadata": {
    "autoscroll": false,
    "collapsed": false,
    "ein.hycell": false,
    "ein.tags": "worksheet-0",
    "slideshow": {
     "slide_type": "-"
    }
   },
   "outputs": [],
   "source": [
    "topTagSet = set()\n",
    "for year in years:\n",
    "    filename = \"data/top200Tag\" + year + \".json\"\n",
    "    with open(filename) as f:\n",
    "        data = json.load(f)\n",
    "\n",
    "    tags = [data[i][\"tagName\"] for i in range((len(data)))]\n",
    "    topTagSet.update(tags)"
   ]
  },
  {
   "cell_type": "code",
   "execution_count": 112,
   "metadata": {
    "autoscroll": false,
    "collapsed": false,
    "ein.hycell": false,
    "ein.tags": "worksheet-0",
    "slideshow": {
     "slide_type": "-"
    }
   },
   "outputs": [
    {
     "data": {
      "text/plain": [
       "445"
      ]
     },
     "execution_count": 112,
     "metadata": {},
     "output_type": "execute_result"
    }
   ],
   "source": [
    "len(topTagSet)"
   ]
  },
  {
   "cell_type": "code",
   "execution_count": 113,
   "metadata": {
    "autoscroll": false,
    "collapsed": false,
    "ein.hycell": false,
    "ein.tags": "worksheet-0",
    "slideshow": {
     "slide_type": "-"
    }
   },
   "outputs": [
    {
     "data": {
      "text/html": [
       "<div>\n<style scoped>\n    .dataframe tbody tr th:only-of-type {\n        vertical-align: middle;\n    }\n\n    .dataframe tbody tr th {\n        vertical-align: top;\n    }\n\n    .dataframe thead th {\n        text-align: right;\n    }\n</style>\n<table border=\"1\" class=\"dataframe\">\n  <thead>\n    <tr style=\"text-align: right;\">\n      <th></th>\n      <th>search</th>\n      <th>tkinter</th>\n      <th>security</th>\n      <th>matplotlib</th>\n      <th>visual-c++</th>\n      <th>ios5</th>\n      <th>sql</th>\n      <th>events</th>\n      <th>google-cloud-functions</th>\n      <th>asp.net-mvc-2</th>\n      <th>...</th>\n      <th>memory</th>\n      <th>design-patterns</th>\n      <th>web-applications</th>\n      <th>curl</th>\n      <th>web-scraping</th>\n      <th>image-processing</th>\n      <th>zend-framework</th>\n      <th>file</th>\n      <th>windows-xp</th>\n      <th>servlets</th>\n    </tr>\n  </thead>\n  <tbody>\n    <tr>\n      <th>2008-07</th>\n      <td>0.0</td>\n      <td>0.0</td>\n      <td>0.0</td>\n      <td>0.0</td>\n      <td>0.0</td>\n      <td>0.0</td>\n      <td>0.0</td>\n      <td>0.0</td>\n      <td>0.0</td>\n      <td>0.0</td>\n      <td>...</td>\n      <td>0.0</td>\n      <td>0.0</td>\n      <td>0.0</td>\n      <td>0.0</td>\n      <td>0.0</td>\n      <td>0.0</td>\n      <td>0.0</td>\n      <td>0.0</td>\n      <td>0.0</td>\n      <td>0.0</td>\n    </tr>\n    <tr>\n      <th>2008-08</th>\n      <td>15.0</td>\n      <td>1.0</td>\n      <td>55.0</td>\n      <td>0.0</td>\n      <td>15.0</td>\n      <td>0.0</td>\n      <td>147.0</td>\n      <td>18.0</td>\n      <td>0.0</td>\n      <td>0.0</td>\n      <td>...</td>\n      <td>25.0</td>\n      <td>29.0</td>\n      <td>28.0</td>\n      <td>4.0</td>\n      <td>1.0</td>\n      <td>3.0</td>\n      <td>2.0</td>\n      <td>24.0</td>\n      <td>10.0</td>\n      <td>3.0</td>\n    </tr>\n    <tr>\n      <th>2008-09</th>\n      <td>47.0</td>\n      <td>9.0</td>\n      <td>166.0</td>\n      <td>2.0</td>\n      <td>59.0</td>\n      <td>0.0</td>\n      <td>503.0</td>\n      <td>52.0</td>\n      <td>0.0</td>\n      <td>0.0</td>\n      <td>...</td>\n      <td>57.0</td>\n      <td>110.0</td>\n      <td>89.0</td>\n      <td>6.0</td>\n      <td>0.0</td>\n      <td>12.0</td>\n      <td>11.0</td>\n      <td>65.0</td>\n      <td>45.0</td>\n      <td>29.0</td>\n    </tr>\n    <tr>\n      <th>2008-10</th>\n      <td>50.0</td>\n      <td>4.0</td>\n      <td>165.0</td>\n      <td>0.0</td>\n      <td>70.0</td>\n      <td>0.0</td>\n      <td>534.0</td>\n      <td>84.0</td>\n      <td>0.0</td>\n      <td>0.0</td>\n      <td>...</td>\n      <td>59.0</td>\n      <td>108.0</td>\n      <td>64.0</td>\n      <td>11.0</td>\n      <td>2.0</td>\n      <td>26.0</td>\n      <td>10.0</td>\n      <td>101.0</td>\n      <td>33.0</td>\n      <td>27.0</td>\n    </tr>\n    <tr>\n      <th>2008-11</th>\n      <td>44.0</td>\n      <td>2.0</td>\n      <td>128.0</td>\n      <td>0.0</td>\n      <td>53.0</td>\n      <td>0.0</td>\n      <td>414.0</td>\n      <td>59.0</td>\n      <td>0.0</td>\n      <td>0.0</td>\n      <td>...</td>\n      <td>35.0</td>\n      <td>78.0</td>\n      <td>65.0</td>\n      <td>10.0</td>\n      <td>1.0</td>\n      <td>24.0</td>\n      <td>15.0</td>\n      <td>81.0</td>\n      <td>27.0</td>\n      <td>27.0</td>\n    </tr>\n    <tr>\n      <th>...</th>\n      <td>...</td>\n      <td>...</td>\n      <td>...</td>\n      <td>...</td>\n      <td>...</td>\n      <td>...</td>\n      <td>...</td>\n      <td>...</td>\n      <td>...</td>\n      <td>...</td>\n      <td>...</td>\n      <td>...</td>\n      <td>...</td>\n      <td>...</td>\n      <td>...</td>\n      <td>...</td>\n      <td>...</td>\n      <td>...</td>\n      <td>...</td>\n      <td>...</td>\n      <td>...</td>\n    </tr>\n    <tr>\n      <th>2020-05</th>\n      <td>291.0</td>\n      <td>859.0</td>\n      <td>393.0</td>\n      <td>1396.0</td>\n      <td>165.0</td>\n      <td>0.0</td>\n      <td>5280.0</td>\n      <td>244.0</td>\n      <td>497.0</td>\n      <td>2.0</td>\n      <td>...</td>\n      <td>279.0</td>\n      <td>194.0</td>\n      <td>167.0</td>\n      <td>394.0</td>\n      <td>1001.0</td>\n      <td>473.0</td>\n      <td>11.0</td>\n      <td>800.0</td>\n      <td>6.0</td>\n      <td>114.0</td>\n    </tr>\n    <tr>\n      <th>2020-06</th>\n      <td>236.0</td>\n      <td>783.0</td>\n      <td>379.0</td>\n      <td>1236.0</td>\n      <td>185.0</td>\n      <td>0.0</td>\n      <td>4946.0</td>\n      <td>178.0</td>\n      <td>408.0</td>\n      <td>0.0</td>\n      <td>...</td>\n      <td>268.0</td>\n      <td>137.0</td>\n      <td>167.0</td>\n      <td>371.0</td>\n      <td>923.0</td>\n      <td>406.0</td>\n      <td>16.0</td>\n      <td>606.0</td>\n      <td>8.0</td>\n      <td>101.0</td>\n    </tr>\n    <tr>\n      <th>2020-07</th>\n      <td>259.0</td>\n      <td>930.0</td>\n      <td>390.0</td>\n      <td>1186.0</td>\n      <td>172.0</td>\n      <td>0.0</td>\n      <td>4671.0</td>\n      <td>219.0</td>\n      <td>391.0</td>\n      <td>0.0</td>\n      <td>...</td>\n      <td>243.0</td>\n      <td>157.0</td>\n      <td>175.0</td>\n      <td>302.0</td>\n      <td>865.0</td>\n      <td>355.0</td>\n      <td>12.0</td>\n      <td>610.0</td>\n      <td>3.0</td>\n      <td>114.0</td>\n    </tr>\n    <tr>\n      <th>2020-08</th>\n      <td>230.0</td>\n      <td>949.0</td>\n      <td>381.0</td>\n      <td>950.0</td>\n      <td>120.0</td>\n      <td>1.0</td>\n      <td>4364.0</td>\n      <td>185.0</td>\n      <td>384.0</td>\n      <td>0.0</td>\n      <td>...</td>\n      <td>252.0</td>\n      <td>169.0</td>\n      <td>169.0</td>\n      <td>336.0</td>\n      <td>819.0</td>\n      <td>310.0</td>\n      <td>20.0</td>\n      <td>573.0</td>\n      <td>1.0</td>\n      <td>117.0</td>\n    </tr>\n    <tr>\n      <th>2020-09</th>\n      <td>44.0</td>\n      <td>155.0</td>\n      <td>89.0</td>\n      <td>175.0</td>\n      <td>23.0</td>\n      <td>0.0</td>\n      <td>896.0</td>\n      <td>36.0</td>\n      <td>64.0</td>\n      <td>0.0</td>\n      <td>...</td>\n      <td>54.0</td>\n      <td>40.0</td>\n      <td>38.0</td>\n      <td>64.0</td>\n      <td>147.0</td>\n      <td>60.0</td>\n      <td>4.0</td>\n      <td>117.0</td>\n      <td>0.0</td>\n      <td>25.0</td>\n    </tr>\n  </tbody>\n</table>\n<p>147 rows × 445 columns</p>\n</div>"
      ],
      "text/plain": [
       "         search  tkinter  security  matplotlib  visual-c++  ios5     sql  \\\n2008-07     0.0      0.0       0.0         0.0         0.0   0.0     0.0   \n2008-08    15.0      1.0      55.0         0.0        15.0   0.0   147.0   \n2008-09    47.0      9.0     166.0         2.0        59.0   0.0   503.0   \n2008-10    50.0      4.0     165.0         0.0        70.0   0.0   534.0   \n2008-11    44.0      2.0     128.0         0.0        53.0   0.0   414.0   \n...         ...      ...       ...         ...         ...   ...     ...   \n2020-05   291.0    859.0     393.0      1396.0       165.0   0.0  5280.0   \n2020-06   236.0    783.0     379.0      1236.0       185.0   0.0  4946.0   \n2020-07   259.0    930.0     390.0      1186.0       172.0   0.0  4671.0   \n2020-08   230.0    949.0     381.0       950.0       120.0   1.0  4364.0   \n2020-09    44.0    155.0      89.0       175.0        23.0   0.0   896.0   \n\n         events  google-cloud-functions  asp.net-mvc-2  ...  memory  \\\n2008-07     0.0                     0.0            0.0  ...     0.0   \n2008-08    18.0                     0.0            0.0  ...    25.0   \n2008-09    52.0                     0.0            0.0  ...    57.0   \n2008-10    84.0                     0.0            0.0  ...    59.0   \n2008-11    59.0                     0.0            0.0  ...    35.0   \n...         ...                     ...            ...  ...     ...   \n2020-05   244.0                   497.0            2.0  ...   279.0   \n2020-06   178.0                   408.0            0.0  ...   268.0   \n2020-07   219.0                   391.0            0.0  ...   243.0   \n2020-08   185.0                   384.0            0.0  ...   252.0   \n2020-09    36.0                    64.0            0.0  ...    54.0   \n\n         design-patterns  web-applications   curl  web-scraping  \\\n2008-07              0.0               0.0    0.0           0.0   \n2008-08             29.0              28.0    4.0           1.0   \n2008-09            110.0              89.0    6.0           0.0   \n2008-10            108.0              64.0   11.0           2.0   \n2008-11             78.0              65.0   10.0           1.0   \n...                  ...               ...    ...           ...   \n2020-05            194.0             167.0  394.0        1001.0   \n2020-06            137.0             167.0  371.0         923.0   \n2020-07            157.0             175.0  302.0         865.0   \n2020-08            169.0             169.0  336.0         819.0   \n2020-09             40.0              38.0   64.0         147.0   \n\n         image-processing  zend-framework   file  windows-xp  servlets  \n2008-07               0.0             0.0    0.0         0.0       0.0  \n2008-08               3.0             2.0   24.0        10.0       3.0  \n2008-09              12.0            11.0   65.0        45.0      29.0  \n2008-10              26.0            10.0  101.0        33.0      27.0  \n2008-11              24.0            15.0   81.0        27.0      27.0  \n...                   ...             ...    ...         ...       ...  \n2020-05             473.0            11.0  800.0         6.0     114.0  \n2020-06             406.0            16.0  606.0         8.0     101.0  \n2020-07             355.0            12.0  610.0         3.0     114.0  \n2020-08             310.0            20.0  573.0         1.0     117.0  \n2020-09              60.0             4.0  117.0         0.0      25.0  \n\n[147 rows x 445 columns]"
      ]
     },
     "execution_count": 113,
     "metadata": {},
     "output_type": "execute_result"
    }
   ],
   "source": [
    "topTagList = list(topTagSet)\n",
    "df = df[topTagList]"
   ]
  },
  {
   "cell_type": "code",
   "execution_count": 114,
   "metadata": {
    "autoscroll": false,
    "collapsed": false,
    "ein.hycell": false,
    "ein.tags": "worksheet-0",
    "slideshow": {
     "slide_type": "-"
    }
   },
   "outputs": [],
   "source": [
    "df.to_csv(\"data/monthlyCountPerTag.csv\", index=True)"
   ]
  },
  {
   "cell_type": "code",
   "execution_count": null,
   "metadata": {
    "autoscroll": false,
    "collapsed": false,
    "ein.hycell": false,
    "ein.tags": "worksheet-0",
    "slideshow": {
     "slide_type": "-"
    }
   },
   "outputs": [],
   "source": []
  }
 ],
 "metadata": {
  "kernelspec": {
   "argv": [
    "python",
    "-m",
    "ipykernel_launcher",
    "-f",
    "{connection_file}"
   ],
   "display_name": "Python 3",
   "env": null,
   "interrupt_mode": "signal",
   "language": "python",
   "metadata": null,
   "name": "python3"
  },
  "name": "PostDataProcessing.ipynb"
 },
 "nbformat": 4,
 "nbformat_minor": 4
}
